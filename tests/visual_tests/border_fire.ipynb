{
 "cells": [
  {
   "cell_type": "code",
   "execution_count": null,
   "id": "b1bf24e3",
   "metadata": {},
   "outputs": [],
   "source": [
    "# We start by importing necessary libraries.\n",
    "import pathlib\n",
    "import sys\n",
    "import glob\n",
    "import pandas as pd\n",
    "import geopandas as gpd\n",
    "# Here's the popexposure import \n",
    "import popexposure  "
   ]
  },
  {
   "cell_type": "code",
   "execution_count": null,
   "id": "7735926d",
   "metadata": {},
   "outputs": [],
   "source": [
    "base_path = pathlib.Path.cwd().parent\n",
    "data_dir = base_path / \"demo_data\""
   ]
  },
  {
   "cell_type": "code",
   "execution_count": null,
   "id": "22bc75d1",
   "metadata": {},
   "outputs": [],
   "source": [
    "# read in US wildfire dataset\n",
    "fires = gpd.read_file(data_dir / \"01_raw_data\"/ \"wfbz_disasters_conus.geojson\")\n",
    "# filter to only CA fires - wildfire_states has to contain CA\n",
    "fires = fires[fires['wildfire_states'].str.contains('CA')]\n",
    "\n",
    "# read in US wildfire dataset\n",
    "fires = gpd.read_file(data_dir / \"01_raw_data\"/ \"wfbz_disasters_conus.geojson\")\n",
    "# filter to only CA fires - wildfire_states has to contain CA\n",
    "fires = fires[fires['wildfire_states'].str.contains('CA')]"
   ]
  },
  {
   "cell_type": "code",
   "execution_count": null,
   "id": "967987e8",
   "metadata": {},
   "outputs": [],
   "source": [
    "border_fires = fires[fires['wildfire_id'].str.contains('camp', case=False, na=False)].copy()"
   ]
  },
  {
   "cell_type": "code",
   "execution_count": null,
   "id": "7a8cc3f2",
   "metadata": {},
   "outputs": [],
   "source": [
    "border_fires"
   ]
  },
  {
   "cell_type": "code",
   "execution_count": null,
   "id": "6e53e9f6",
   "metadata": {},
   "outputs": [],
   "source": [
    "border_fires[\"buffer_dist_10\"] = 0  # buffer distance in meters \n",
    "border_fires.head()"
   ]
  },
  {
   "cell_type": "code",
   "execution_count": null,
   "id": "89d7fd33",
   "metadata": {},
   "outputs": [],
   "source": [
    "# First, select cols\n",
    "by_year = border_fires[[\"wildfire_id\", \"buffer_dist_10\", \"geometry\"]]\n",
    "# Then rename the wildfire ID col\n",
    "by_year = by_year.rename(columns={\"wildfire_id\": \"ID_hazard\"})"
   ]
  },
  {
   "cell_type": "code",
   "execution_count": null,
   "id": "7d37cbe9",
   "metadata": {},
   "outputs": [],
   "source": [
    "by_year"
   ]
  },
  {
   "cell_type": "code",
   "execution_count": null,
   "id": "0bd05833",
   "metadata": {},
   "outputs": [],
   "source": [
    "# save by year in the data\n",
    "border_fires = data_dir / \"02_interim_data\" / \"border_fire.geojson\"\n",
    "by_year.to_file(border_fires, driver=\"GeoJSON\")"
   ]
  },
  {
   "cell_type": "code",
   "execution_count": null,
   "id": "c469ac84",
   "metadata": {},
   "outputs": [],
   "source": [
    "# run popexp on it\n",
    "ghsl_path = data_dir / \"01_raw_data\" / \"GHS_POP_E2020_GLOBE_R2023A_54009_100_V1_0_R5_C8.tif\"\n",
    "# ZCTA path \n",
    "zcta_path = glob.glob(str(data_dir / \"02_interim_data\" / \"*zcta*\"))[0]"
   ]
  },
  {
   "cell_type": "code",
   "execution_count": null,
   "id": "40900534",
   "metadata": {},
   "outputs": [],
   "source": [
    "est = popexposure.PopEstimator()\n",
    "\n",
    "year_dat = est.prep_data(path_to_data=border_fires, geo_type='hazard')\n",
    "num_exposed = est.est_exposed_pop(pop_path=ghsl_path, \n",
    "                                  hazards = year_dat,\n",
    "                                  hazard_specific=True)"
   ]
  },
  {
   "cell_type": "code",
   "execution_count": null,
   "id": "a0844a98",
   "metadata": {},
   "outputs": [],
   "source": [
    "num_exposed"
   ]
  }
 ],
 "metadata": {
  "kernelspec": {
   "display_name": "pop_exp",
   "language": "python",
   "name": "python3"
  },
  "language_info": {
   "codemirror_mode": {
    "name": "ipython",
    "version": 3
   },
   "file_extension": ".py",
   "mimetype": "text/x-python",
   "name": "python",
   "nbconvert_exporter": "python",
   "pygments_lexer": "ipython3",
   "version": "3.13.5"
  }
 },
 "nbformat": 4,
 "nbformat_minor": 5
}
