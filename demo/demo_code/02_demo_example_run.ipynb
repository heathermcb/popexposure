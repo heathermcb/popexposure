{
 "cells": [
  {
   "cell_type": "markdown",
   "metadata": {},
   "source": [
    "#### Introduction\n",
    "\n",
    "The purpose of this notebook, along with 01_data_setup_example.ipynb and 03_demo_explore_results.ipynb, is to provide a tutorial of how you may want to use the popexposure pacakge functions.\n",
    "\n",
    "Please see 01_data_setup_example.ipynb before you work through this notebook!"
   ]
  },
  {
   "cell_type": "markdown",
   "metadata": {},
   "source": [
    "#### Outline\n",
    "\n",
    "To recap, our goal was to demo all the options available in popexposure. In this notebook we'll do five separate things, which align with the five options available in the package. \n",
    "\n",
    "First we'll do:\n",
    "\n",
    "0. Setup, and then:\n",
    "\n",
    "1. Find the total number of people residing within 10km of one or more California wildfire \n",
    "disasters in 2016, 2017, and 2018. \n",
    "2. Find the total number of people residing within 10 km of each unique California wildfire\n",
    "disaster in 2016, 2017, and 2018.\n",
    "3. Find the total number of people residing within 10km of one or more California wildfire \n",
    "disaster in 2016, 2017, and 2018 by 2020 ZCTA. \n",
    "4. Find the total number of people residing within 10 km of each unique California wildfire\n",
    "disaster in 2016, 2017, and 2018 by 2020 ZCTA.\n",
    "5. Find the population of all 2020 ZCTAs. \n",
    "\n",
    "In the last notebook, we prepared the wildfire disaster exposure data and ZCTA data to pass to the popexposure functions so we could complete these computations. Here, we'll complete each of them in this order. "
   ]
  },
  {
   "cell_type": "markdown",
   "metadata": {},
   "source": [
    "#### 0. Setup\n",
    "\n",
    "We need to import some libraries and also install and import popexposure. If you haven't installed popexposure in the environment you're working in now, go ahead and activate that environment, and pip install popexposure in the terminal. popexposure is included in the pop_exp environment for this tutorial. We can then import the functions within popexposure. "
   ]
  },
  {
   "cell_type": "code",
   "execution_count": 3,
   "metadata": {},
   "outputs": [],
   "source": [
    "# We start by importing necessary libraries.\n",
    "import pathlib\n",
    "import sys\n",
    "import glob\n",
    "import pandas as pd\n",
    "# Here's the popexposure import \n",
    "from popexposure import find_exposure as ex"
   ]
  },
  {
   "cell_type": "markdown",
   "metadata": {},
   "source": [
    "We'll also set some paths to make it easy to access the data we cleaned for \n",
    "this tutorial. \n",
    "\n",
    "To find the number of people affected by one or more CA wildfire disaster by year 2016-2018, and by ZCTA, we need to get the paths to each of our wildfire files that we made in the data setup notebook.\n",
    "\n",
    "The regular expression below selects all the files in the interim data directory that have 'fire' in the name. "
   ]
  },
  {
   "cell_type": "code",
   "execution_count": 4,
   "metadata": {},
   "outputs": [],
   "source": [
    "# Paths \n",
    "base_path = pathlib.Path.cwd().parent\n",
    "data_dir = base_path / \"demo_data\"\n",
    "# wf paths regex\n",
    "wildfire_paths = glob.glob(str(data_dir / \"02_interim_data\" / \"*fire*\"))"
   ]
  },
  {
   "cell_type": "markdown",
   "metadata": {},
   "source": [
    "We also need the path to the population raster we're using, and the ZCTA file."
   ]
  },
  {
   "cell_type": "code",
   "execution_count": 5,
   "metadata": {},
   "outputs": [],
   "source": [
    "# GHSL pop raster\n",
    "ghsl_path = data_dir / \"01_raw_data\" / \"GHS_POP_E2020_GLOBE_R2023A_54009_100_V1_0_R5_C8.tif\"\n",
    "\n",
    "# ZCTA path \n",
    "zcta_path = glob.glob(str(data_dir / \"02_interim_data\" / \"*zcta*\"))[0]"
   ]
  },
  {
   "cell_type": "markdown",
   "metadata": {},
   "source": [
    "We're now set up to run the five cases we're interested in. "
   ]
  },
  {
   "cell_type": "markdown",
   "metadata": {},
   "source": [
    "#### 1. \n",
    "\n",
    "Our first goal was to find the total number of people residing within 10 km of one or more California wildfire disaster in 2016, 2017, and 2018.\n",
    "\n",
    "To do this, we can run prep_data and then exposed_pop with the parameter hazard_specific = False.\n",
    "\n",
    "Because we're looping over three years, we'll initialize an empty list first, and then store the results in this list. We're also adding a year variable to the result as we go. In total, this takes around 5 seconds.\n"
   ]
  },
  {
   "cell_type": "code",
   "execution_count": 6,
   "metadata": {},
   "outputs": [],
   "source": [
    "est = ex.PopEstimator()\n",
    "\n",
    "num_exposed_list = []\n",
    "start_year = 2016\n",
    "\n",
    "for i in range(0, 3):\n",
    "    year_dat = est.prep_data(path_to_data=wildfire_paths[i], geo_type='hazard')\n",
    "    num_exposed = est.exposed_pop(pop_path=ghsl_path, \n",
    "                                  hazards = year_dat,\n",
    "                                  hazard_specific=False)\n",
    "    num_exposed['year'] = start_year + i\n",
    "    num_exposed_list.append(num_exposed)"
   ]
  },
  {
   "cell_type": "markdown",
   "metadata": {},
   "source": [
    "Because we added a year variable to each output, we can concatonate these dataframes together, and then look at the output. "
   ]
  },
  {
   "cell_type": "code",
   "execution_count": 7,
   "metadata": {},
   "outputs": [
    {
     "data": {
      "application/vnd.microsoft.datawrangler.viewer.v0+json": {
       "columns": [
        {
         "name": "index",
         "rawType": "int64",
         "type": "integer"
        },
        {
         "name": "ID_hazard",
         "rawType": "object",
         "type": "string"
        },
        {
         "name": "exposed_10",
         "rawType": "float64",
         "type": "float"
        },
        {
         "name": "year",
         "rawType": "int64",
         "type": "integer"
        }
       ],
       "ref": "ac77304c-e8ae-4524-9ad5-ad74c6b466d5",
       "rows": [
        [
         "0",
         "merged_geoms",
         "1891744.2843353637",
         "2016"
        ],
        [
         "0",
         "merged_geoms",
         "5296477.405800741",
         "2017"
        ],
        [
         "0",
         "merged_geoms",
         "2091302.4479073074",
         "2018"
        ]
       ],
       "shape": {
        "columns": 3,
        "rows": 3
       }
      },
      "text/html": [
       "<div>\n",
       "<style scoped>\n",
       "    .dataframe tbody tr th:only-of-type {\n",
       "        vertical-align: middle;\n",
       "    }\n",
       "\n",
       "    .dataframe tbody tr th {\n",
       "        vertical-align: top;\n",
       "    }\n",
       "\n",
       "    .dataframe thead th {\n",
       "        text-align: right;\n",
       "    }\n",
       "</style>\n",
       "<table border=\"1\" class=\"dataframe\">\n",
       "  <thead>\n",
       "    <tr style=\"text-align: right;\">\n",
       "      <th></th>\n",
       "      <th>ID_hazard</th>\n",
       "      <th>exposed_10</th>\n",
       "      <th>year</th>\n",
       "    </tr>\n",
       "  </thead>\n",
       "  <tbody>\n",
       "    <tr>\n",
       "      <th>0</th>\n",
       "      <td>merged_geoms</td>\n",
       "      <td>1.891744e+06</td>\n",
       "      <td>2016</td>\n",
       "    </tr>\n",
       "    <tr>\n",
       "      <th>0</th>\n",
       "      <td>merged_geoms</td>\n",
       "      <td>5.296477e+06</td>\n",
       "      <td>2017</td>\n",
       "    </tr>\n",
       "    <tr>\n",
       "      <th>0</th>\n",
       "      <td>merged_geoms</td>\n",
       "      <td>2.091302e+06</td>\n",
       "      <td>2018</td>\n",
       "    </tr>\n",
       "  </tbody>\n",
       "</table>\n",
       "</div>"
      ],
      "text/plain": [
       "      ID_hazard    exposed_10  year\n",
       "0  merged_geoms  1.891744e+06  2016\n",
       "0  merged_geoms  5.296477e+06  2017\n",
       "0  merged_geoms  2.091302e+06  2018"
      ]
     },
     "execution_count": 7,
     "metadata": {},
     "output_type": "execute_result"
    }
   ],
   "source": [
    "# Join those dataframes together. \n",
    "num_exposed_df = pd.concat(num_exposed_list, axis=0)\n",
    "num_exposed_df.head()"
   ]
  },
  {
   "cell_type": "markdown",
   "metadata": {},
   "source": [
    "Our output has three columns: ID_hazard, exposed_10, and year. \n",
    "We added year, but the other two are output from exposed_pop.\n",
    "exposed_10 is called that because we named our buffer_dist column buffer_dist_10, so that suffix got carried through to our results.\n",
    "Because we ran the function with hazard_specific = False, our ID_hazard column has changed. It now says 'merged_geoms', which means that we got one number representing the count of everyone exposed to one or more wildifre disasters in each year, so the IDs are no longer wildfire IDs.\n",
    "\n",
    "We wanted to count the number of people residing within 10km of *any* California wildfire disaster. There are some people who live within 10km of two or more wildfire disasters. Because we just wanted the total, we did not want to  double count those people. When computing a total, rather than the number of people affected by each unique hazard, exposed_pop takes the unary union of any buffered hazards that are overlapping, and finds the total of \n",
    "everyone residing within that area.\n",
    "\n",
    "We can save the output."
   ]
  },
  {
   "cell_type": "code",
   "execution_count": 8,
   "metadata": {},
   "outputs": [],
   "source": [
    "num_exposed_df.to_parquet(data_dir / \"03_results\" / \"num_people_affected_by_wildfire.parquet\")"
   ]
  },
  {
   "cell_type": "markdown",
   "metadata": {},
   "source": [
    "#### 2. \n",
    "We also wanted to 2. Find the total number of people residing within 10 km of each unique California wildfire disaster in 2016, 2017, and 2018. \n",
    "\n",
    "To do this, we also need to use exposed_pop, with all the same arguments except for hazard_specific. In this case, we set hazard_specific to True. This means that we will count the number of people within 10km of each wildfire disaster boundary, regardless of whether two or more exposed areas overlap. "
   ]
  },
  {
   "cell_type": "code",
   "execution_count": 9,
   "metadata": {},
   "outputs": [
    {
     "data": {
      "application/vnd.microsoft.datawrangler.viewer.v0+json": {
       "columns": [
        {
         "name": "index",
         "rawType": "int64",
         "type": "integer"
        },
        {
         "name": "ID_hazard",
         "rawType": "object",
         "type": "string"
        },
        {
         "name": "exposed_10",
         "rawType": "float64",
         "type": "float"
        },
        {
         "name": "year",
         "rawType": "int64",
         "type": "integer"
        }
       ],
       "ref": "5b09a748-93ef-4b54-a6b8-3be8584e2393",
       "rows": [
        [
         "0",
         "2016-06-23_ERSKINE_CA_KERN_4254",
         "14909.188674931083",
         "2016"
        ],
        [
         "1",
         "2016-06-24_MARINA_CA_MONO_4255",
         "451.9202815138269",
         "2016"
        ],
        [
         "2",
         "2016-06-19_BORDER 3_CA_SAN DIEGO_4256",
         "0.0",
         "2016"
        ],
        [
         "3",
         "2016-06-15_SHERPA_CA_SANTA BARBARA_4287",
         "5094.700216890873",
         "2016"
        ],
        [
         "4",
         "2016-07-08_FIDDLER_CA_SHASTA_4288",
         "257.79287543807624",
         "2016"
        ]
       ],
       "shape": {
        "columns": 3,
        "rows": 5
       }
      },
      "text/html": [
       "<div>\n",
       "<style scoped>\n",
       "    .dataframe tbody tr th:only-of-type {\n",
       "        vertical-align: middle;\n",
       "    }\n",
       "\n",
       "    .dataframe tbody tr th {\n",
       "        vertical-align: top;\n",
       "    }\n",
       "\n",
       "    .dataframe thead th {\n",
       "        text-align: right;\n",
       "    }\n",
       "</style>\n",
       "<table border=\"1\" class=\"dataframe\">\n",
       "  <thead>\n",
       "    <tr style=\"text-align: right;\">\n",
       "      <th></th>\n",
       "      <th>ID_hazard</th>\n",
       "      <th>exposed_10</th>\n",
       "      <th>year</th>\n",
       "    </tr>\n",
       "  </thead>\n",
       "  <tbody>\n",
       "    <tr>\n",
       "      <th>0</th>\n",
       "      <td>2016-06-23_ERSKINE_CA_KERN_4254</td>\n",
       "      <td>14909.188675</td>\n",
       "      <td>2016</td>\n",
       "    </tr>\n",
       "    <tr>\n",
       "      <th>1</th>\n",
       "      <td>2016-06-24_MARINA_CA_MONO_4255</td>\n",
       "      <td>451.920282</td>\n",
       "      <td>2016</td>\n",
       "    </tr>\n",
       "    <tr>\n",
       "      <th>2</th>\n",
       "      <td>2016-06-19_BORDER 3_CA_SAN DIEGO_4256</td>\n",
       "      <td>0.000000</td>\n",
       "      <td>2016</td>\n",
       "    </tr>\n",
       "    <tr>\n",
       "      <th>3</th>\n",
       "      <td>2016-06-15_SHERPA_CA_SANTA BARBARA_4287</td>\n",
       "      <td>5094.700217</td>\n",
       "      <td>2016</td>\n",
       "    </tr>\n",
       "    <tr>\n",
       "      <th>4</th>\n",
       "      <td>2016-07-08_FIDDLER_CA_SHASTA_4288</td>\n",
       "      <td>257.792875</td>\n",
       "      <td>2016</td>\n",
       "    </tr>\n",
       "  </tbody>\n",
       "</table>\n",
       "</div>"
      ],
      "text/plain": [
       "                                 ID_hazard    exposed_10  year\n",
       "0          2016-06-23_ERSKINE_CA_KERN_4254  14909.188675  2016\n",
       "1           2016-06-24_MARINA_CA_MONO_4255    451.920282  2016\n",
       "2    2016-06-19_BORDER 3_CA_SAN DIEGO_4256      0.000000  2016\n",
       "3  2016-06-15_SHERPA_CA_SANTA BARBARA_4287   5094.700217  2016\n",
       "4        2016-07-08_FIDDLER_CA_SHASTA_4288    257.792875  2016"
      ]
     },
     "execution_count": 9,
     "metadata": {},
     "output_type": "execute_result"
    }
   ],
   "source": [
    "est = ex.PopEstimator()\n",
    "\n",
    "num_exposed_list = []\n",
    "start_year = 2016\n",
    "\n",
    "for i in range(0, 3):\n",
    "    year_dat = est.prep_data(path_to_data=wildfire_paths[i], geo_type='hazard')\n",
    "    num_exposed = est.exposed_pop(pop_path=ghsl_path, \n",
    "                                  hazards = year_dat,\n",
    "                                  hazard_specific=True)\n",
    "    num_exposed['year'] = start_year + i\n",
    "    num_exposed_list.append(num_exposed)\n",
    "\n",
    "num_exposed_unique = pd.concat(num_exposed_list, axis=0)\n",
    "num_exposed_unique.head()"
   ]
  },
  {
   "cell_type": "markdown",
   "metadata": {},
   "source": [
    "Again, our output has three columns: ID_hazard, exposed_10, and year. \n",
    "\n",
    "This time, the ID_hazard column is the same as the one we passed to this \n",
    "function. This time, if people lived within 10 km of one or more fires, they\n",
    "are counted in the total people affected by that fire. This means that exposed_pop\n",
    "returns a dataframe with one row per hazard ID, and people may\n",
    "be double counted or triple or more. \n",
    "\n",
    "We can save the output."
   ]
  },
  {
   "cell_type": "code",
   "execution_count": 10,
   "metadata": {},
   "outputs": [],
   "source": [
    "num_exposed_unique.to_parquet(data_dir / \"03_results\" / \"num_aff_by_unique_wildfire.parquet\")"
   ]
  },
  {
   "cell_type": "markdown",
   "metadata": {},
   "source": [
    "There were two more ways we wanted to define exposure. \n",
    "\n",
    "3. Find the total number of people residing within 10km of one or more California wildfire \n",
    "disasters in 2016, 2017, and 2018 by 2020 ZCTA. \n",
    "4. Find the total number of people residing within 10 km of each unique California wildfire\n",
    "disaster in 2016, 2017, and 2018 by 2020 ZCTA.\n",
    "\n",
    "These are analogous to the two quantities we just computed, but this time, we want to know these exposures by ZCTA. \n",
    "\n",
    "To do this, we need to run exposed_pop again but this time with additional administrative geographies: ZCTAs.\n"
   ]
  },
  {
   "cell_type": "markdown",
   "metadata": {},
   "source": [
    "#### 3. \n",
    "To do \"3. Find the total number of people residing within 10km of one or more California wildfire disaster in 2016, 2017, and 2018 by 2020 ZCTA\", we'll run run exposed_pop with hazard_specific = False, and we'll set the optional argument 'spatial_units' to a dataframe of 2020 ZCTAs.\n",
    "\n",
    "We need to prepare the ZCTA data once first before we include it! We'll run the prep_data function once to prepare the ZCTA data, and then use that prepared data in every interation of the loop over years 2016-2018.\n"
   ]
  },
  {
   "cell_type": "code",
   "execution_count": 11,
   "metadata": {},
   "outputs": [],
   "source": [
    "num_exposed_zcta_list = []\n",
    "start_year = 2016\n",
    "\n",
    "# prepare zcta data\n",
    "zctas = est.prep_data(path_to_data=zcta_path, geo_type='spatial_unit')\n",
    "\n",
    "for i in range(0, 3):\n",
    "    hazards = est.prep_data(path_to_data=wildfire_paths[i], geo_type='hazard')\n",
    "    num_exposed_zcta = est.exposed_pop(pop_path=ghsl_path, hazard_specific=False, hazards=hazards, spatial_units=zctas)\n",
    "    num_exposed_zcta['year'] = start_year + i\n",
    "    num_exposed_zcta_list.append(num_exposed_zcta)"
   ]
  },
  {
   "cell_type": "markdown",
   "metadata": {},
   "source": [
    "This computation took about 8 seconds - a little bit longer than when we weren't looking for ZCTA-specific estimates. "
   ]
  },
  {
   "cell_type": "code",
   "execution_count": 12,
   "metadata": {},
   "outputs": [
    {
     "data": {
      "application/vnd.microsoft.datawrangler.viewer.v0+json": {
       "columns": [
        {
         "name": "index",
         "rawType": "int64",
         "type": "integer"
        },
        {
         "name": "ID_hazard",
         "rawType": "object",
         "type": "string"
        },
        {
         "name": "ID_spatial_unit",
         "rawType": "object",
         "type": "string"
        },
        {
         "name": "exposed_10",
         "rawType": "float64",
         "type": "float"
        },
        {
         "name": "year",
         "rawType": "int64",
         "type": "integer"
        }
       ],
       "ref": "63e98560-cbc5-4c15-a29e-ef4dca4fdacc",
       "rows": [
        [
         "0",
         "merged_geoms",
         "91301",
         "8394.696678823084",
         "2016"
        ],
        [
         "1",
         "merged_geoms",
         "91352",
         "1349.0186875005309",
         "2016"
        ],
        [
         "2",
         "merged_geoms",
         "91731",
         "1710.073792983641",
         "2016"
        ],
        [
         "3",
         "merged_geoms",
         "91739",
         "1631.177454365154",
         "2016"
        ],
        [
         "4",
         "merged_geoms",
         "91791",
         "13943.348491090486",
         "2016"
        ]
       ],
       "shape": {
        "columns": 4,
        "rows": 5
       }
      },
      "text/html": [
       "<div>\n",
       "<style scoped>\n",
       "    .dataframe tbody tr th:only-of-type {\n",
       "        vertical-align: middle;\n",
       "    }\n",
       "\n",
       "    .dataframe tbody tr th {\n",
       "        vertical-align: top;\n",
       "    }\n",
       "\n",
       "    .dataframe thead th {\n",
       "        text-align: right;\n",
       "    }\n",
       "</style>\n",
       "<table border=\"1\" class=\"dataframe\">\n",
       "  <thead>\n",
       "    <tr style=\"text-align: right;\">\n",
       "      <th></th>\n",
       "      <th>ID_hazard</th>\n",
       "      <th>ID_spatial_unit</th>\n",
       "      <th>exposed_10</th>\n",
       "      <th>year</th>\n",
       "    </tr>\n",
       "  </thead>\n",
       "  <tbody>\n",
       "    <tr>\n",
       "      <th>0</th>\n",
       "      <td>merged_geoms</td>\n",
       "      <td>91301</td>\n",
       "      <td>8394.696679</td>\n",
       "      <td>2016</td>\n",
       "    </tr>\n",
       "    <tr>\n",
       "      <th>1</th>\n",
       "      <td>merged_geoms</td>\n",
       "      <td>91352</td>\n",
       "      <td>1349.018688</td>\n",
       "      <td>2016</td>\n",
       "    </tr>\n",
       "    <tr>\n",
       "      <th>2</th>\n",
       "      <td>merged_geoms</td>\n",
       "      <td>91731</td>\n",
       "      <td>1710.073793</td>\n",
       "      <td>2016</td>\n",
       "    </tr>\n",
       "    <tr>\n",
       "      <th>3</th>\n",
       "      <td>merged_geoms</td>\n",
       "      <td>91739</td>\n",
       "      <td>1631.177454</td>\n",
       "      <td>2016</td>\n",
       "    </tr>\n",
       "    <tr>\n",
       "      <th>4</th>\n",
       "      <td>merged_geoms</td>\n",
       "      <td>91791</td>\n",
       "      <td>13943.348491</td>\n",
       "      <td>2016</td>\n",
       "    </tr>\n",
       "  </tbody>\n",
       "</table>\n",
       "</div>"
      ],
      "text/plain": [
       "      ID_hazard ID_spatial_unit    exposed_10  year\n",
       "0  merged_geoms           91301   8394.696679  2016\n",
       "1  merged_geoms           91352   1349.018688  2016\n",
       "2  merged_geoms           91731   1710.073793  2016\n",
       "3  merged_geoms           91739   1631.177454  2016\n",
       "4  merged_geoms           91791  13943.348491  2016"
      ]
     },
     "execution_count": 12,
     "metadata": {},
     "output_type": "execute_result"
    }
   ],
   "source": [
    "# putting all years into one dataframe\n",
    "num_affected_zcta_df = pd.concat(num_exposed_zcta_list, axis=0)\n",
    "num_affected_zcta_df.head()"
   ]
  },
  {
   "cell_type": "code",
   "execution_count": 13,
   "metadata": {},
   "outputs": [
    {
     "data": {
      "application/vnd.microsoft.datawrangler.viewer.v0+json": {
       "columns": [
        {
         "name": "index",
         "rawType": "int64",
         "type": "integer"
        },
        {
         "name": "ID_hazard",
         "rawType": "object",
         "type": "string"
        },
        {
         "name": "ID_spatial_unit",
         "rawType": "object",
         "type": "string"
        },
        {
         "name": "exposed_10",
         "rawType": "float64",
         "type": "float"
        },
        {
         "name": "year",
         "rawType": "int64",
         "type": "integer"
        }
       ],
       "ref": "d5c7763b-c626-43f8-85b8-fa45da047638",
       "rows": [
        [
         "0",
         "merged_geoms",
         "91301",
         "8394.696678823084",
         "2016"
        ],
        [
         "1",
         "merged_geoms",
         "91352",
         "1349.0186875005309",
         "2016"
        ],
        [
         "2",
         "merged_geoms",
         "91731",
         "1710.073792983641",
         "2016"
        ],
        [
         "3",
         "merged_geoms",
         "91739",
         "1631.177454365154",
         "2016"
        ],
        [
         "4",
         "merged_geoms",
         "91791",
         "13943.348491090486",
         "2016"
        ]
       ],
       "shape": {
        "columns": 4,
        "rows": 5
       }
      },
      "text/html": [
       "<div>\n",
       "<style scoped>\n",
       "    .dataframe tbody tr th:only-of-type {\n",
       "        vertical-align: middle;\n",
       "    }\n",
       "\n",
       "    .dataframe tbody tr th {\n",
       "        vertical-align: top;\n",
       "    }\n",
       "\n",
       "    .dataframe thead th {\n",
       "        text-align: right;\n",
       "    }\n",
       "</style>\n",
       "<table border=\"1\" class=\"dataframe\">\n",
       "  <thead>\n",
       "    <tr style=\"text-align: right;\">\n",
       "      <th></th>\n",
       "      <th>ID_hazard</th>\n",
       "      <th>ID_spatial_unit</th>\n",
       "      <th>exposed_10</th>\n",
       "      <th>year</th>\n",
       "    </tr>\n",
       "  </thead>\n",
       "  <tbody>\n",
       "    <tr>\n",
       "      <th>0</th>\n",
       "      <td>merged_geoms</td>\n",
       "      <td>91301</td>\n",
       "      <td>8394.696679</td>\n",
       "      <td>2016</td>\n",
       "    </tr>\n",
       "    <tr>\n",
       "      <th>1</th>\n",
       "      <td>merged_geoms</td>\n",
       "      <td>91352</td>\n",
       "      <td>1349.018688</td>\n",
       "      <td>2016</td>\n",
       "    </tr>\n",
       "    <tr>\n",
       "      <th>2</th>\n",
       "      <td>merged_geoms</td>\n",
       "      <td>91731</td>\n",
       "      <td>1710.073793</td>\n",
       "      <td>2016</td>\n",
       "    </tr>\n",
       "    <tr>\n",
       "      <th>3</th>\n",
       "      <td>merged_geoms</td>\n",
       "      <td>91739</td>\n",
       "      <td>1631.177454</td>\n",
       "      <td>2016</td>\n",
       "    </tr>\n",
       "    <tr>\n",
       "      <th>4</th>\n",
       "      <td>merged_geoms</td>\n",
       "      <td>91791</td>\n",
       "      <td>13943.348491</td>\n",
       "      <td>2016</td>\n",
       "    </tr>\n",
       "  </tbody>\n",
       "</table>\n",
       "</div>"
      ],
      "text/plain": [
       "      ID_hazard ID_spatial_unit    exposed_10  year\n",
       "0  merged_geoms           91301   8394.696679  2016\n",
       "1  merged_geoms           91352   1349.018688  2016\n",
       "2  merged_geoms           91731   1710.073793  2016\n",
       "3  merged_geoms           91739   1631.177454  2016\n",
       "4  merged_geoms           91791  13943.348491  2016"
      ]
     },
     "execution_count": 13,
     "metadata": {},
     "output_type": "execute_result"
    }
   ],
   "source": [
    "# And we can save \n",
    "num_affected_zcta_df.to_parquet(data_dir / \"03_results\" / \"num_people_affected_by_wildfire_by_zcta.parquet\")\n",
    "num_affected_zcta_df.head()"
   ]
  },
  {
   "cell_type": "markdown",
   "metadata": {},
   "source": [
    "#### 4. \n",
    "For our final case of counting exposed people, we wanted to find the number of people living near each unique hazard by each ZCTA. For this, we need to use exposed_pop in the same way that we just did, but with hazard_specific = True.  We already prepared the zcta data with prep_data in the previous step, so we can just use that data again. "
   ]
  },
  {
   "cell_type": "code",
   "execution_count": 14,
   "metadata": {},
   "outputs": [],
   "source": [
    "num_exposed_zcta_unique_list = []\n",
    "start_year = 2016\n",
    "\n",
    "for i in range(0, 3):\n",
    "    hazards = est.prep_data(path_to_data=wildfire_paths[i], geo_type='hazard')\n",
    "    num_exposed_zcta_unique = est.exposed_pop(pop_path=ghsl_path, \n",
    "                                               hazard_specific=True,\n",
    "                                               hazards=hazards, \n",
    "                                               spatial_units=zctas # using zctas from previous prep_data call.\n",
    "\n",
    "    )\n",
    "    \n",
    "    num_exposed_zcta_unique['year'] = start_year + i\n",
    "    num_exposed_zcta_unique_list.append(num_exposed_zcta_unique)\n",
    "\n",
    "# all years in one dataframe\n",
    "num_exposed_df_zcta_unique = pd.concat(num_exposed_zcta_unique_list, axis=0)\n",
    "\n",
    "# and we can save\n",
    "num_exposed_df_zcta_unique.to_parquet(data_dir / \"03_results\" / \"num_people_affected_by_wildfire_zcta_unique.parquet\")"
   ]
  },
  {
   "cell_type": "markdown",
   "metadata": {},
   "source": [
    "We will explore some of the output from these runs in the next section of the tutorial.  "
   ]
  },
  {
   "cell_type": "markdown",
   "metadata": {},
   "source": [
    "#### 5. \n",
    "\n",
    "Finally, let's use the function pop to get some denominators for our dataset. This function can help us use the gridded population data we used to find the number of people residing within the hazard buffers to also find the number of people residing in each ZCTA. This is useful if we're using a gridded population dataset that we think is a big improvement over other population counts in our additional spatial units, or we just want to be consistent. \n",
    "\n",
    "To call this function, all we need to do is use the same paths we've used previously:"
   ]
  },
  {
   "cell_type": "code",
   "execution_count": 15,
   "metadata": {},
   "outputs": [
    {
     "ename": "TypeError",
     "evalue": "'NoneType' object is not callable",
     "output_type": "error",
     "traceback": [
      "\u001b[31m---------------------------------------------------------------------------\u001b[39m",
      "\u001b[31mTypeError\u001b[39m                                 Traceback (most recent call last)",
      "\u001b[36mCell\u001b[39m\u001b[36m \u001b[39m\u001b[32mIn[15]\u001b[39m\u001b[32m, line 1\u001b[39m\n\u001b[32m----> \u001b[39m\u001b[32m1\u001b[39m num_residing_by_zcta = \u001b[43mest\u001b[49m\u001b[43m.\u001b[49m\u001b[43mpop\u001b[49m\u001b[43m(\u001b[49m\u001b[43mpop_path\u001b[49m\u001b[43m=\u001b[49m\u001b[43mghsl_path\u001b[49m\u001b[43m,\u001b[49m\u001b[43m \u001b[49m\u001b[43mspatial_units\u001b[49m\u001b[43m=\u001b[49m\u001b[43mzctas\u001b[49m\u001b[43m)\u001b[49m\n\u001b[32m      2\u001b[39m num_residing_by_zcta.to_parquet(data_dir / \u001b[33m\"\u001b[39m\u001b[33m03_results\u001b[39m\u001b[33m\"\u001b[39m / \u001b[33m\"\u001b[39m\u001b[33mnum_people_residing_by_zcta.parquet\u001b[39m\u001b[33m\"\u001b[39m)\n\u001b[32m      3\u001b[39m num_residing_by_zcta.head()\n",
      "\u001b[31mTypeError\u001b[39m: 'NoneType' object is not callable"
     ]
    }
   ],
   "source": [
    "num_residing_by_zcta = est.pop(pop_path=ghsl_path, spatial_units=zctas)\n",
    "num_residing_by_zcta.to_parquet(data_dir / \"03_results\" / \"num_people_residing_by_zcta.parquet\")\n",
    "num_residing_by_zcta.head()\n",
    "\n"
   ]
  },
  {
   "cell_type": "markdown",
   "metadata": {},
   "source": [
    "This time, we have a column for spatial unit and a column for the number of people living in that spatial unit. \n",
    "Please continue to part 3 of this tutorial to explore the output of these functions! \n"
   ]
  },
  {
   "cell_type": "code",
   "execution_count": null,
   "metadata": {},
   "outputs": [],
   "source": []
  }
 ],
 "metadata": {
  "kernelspec": {
   "display_name": "pop_exp",
   "language": "python",
   "name": "python3"
  },
  "language_info": {
   "codemirror_mode": {
    "name": "ipython",
    "version": 3
   },
   "file_extension": ".py",
   "mimetype": "text/x-python",
   "name": "python",
   "nbconvert_exporter": "python",
   "pygments_lexer": "ipython3",
   "version": "3.11.12"
  }
 },
 "nbformat": 4,
 "nbformat_minor": 2
}
