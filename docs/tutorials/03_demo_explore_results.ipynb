{
 "cells": [
  {
   "cell_type": "markdown",
   "metadata": {},
   "source": [
    "### Introduction\n",
    "\n",
    "This is the third and final jupyter notebook of three tutorials introducing the `popexposure` Python package. **In these notebooks, we will use `popexposure` to estimate the number of people residing near California wildfire disasters for each year spanning 2016 to 2018.**\n",
    "\n",
    "In this notebook we will explore, plot, and discuss the results returned by `popexposure` from runs in the previous sections of the tutorial. Notebooks `01` and `02` contain all the necessary code to run this notebook.\n",
    "\n",
    "### Library imports, data directory set up\n",
    "\n",
    "We'll start by reading in the raw ZCTAs and wildfire dataset to use for plotting the results."
   ]
  },
  {
   "cell_type": "code",
   "execution_count": null,
   "metadata": {},
   "outputs": [],
   "source": [
    "import geopandas as gpd \n",
    "import pandas as pd\n",
    "import pathlib\n",
    "import contextily as ctx\n",
    "import matplotlib.pyplot as plt\n",
    "from mpl_toolkits.axes_grid1.inset_locator import inset_axes\n",
    "from matplotlib.lines import Line2D\n",
    "\n",
    "# Define the base path and data directory\n",
    "base_path = pathlib.Path.cwd()\n",
    "data_dir = base_path / \"demo_data\"\n",
    "\n",
    "# Read the raw ZCTA data\n",
    "zctas = gpd.read_file(data_dir / \"01_raw_data\" / \"tl_2020_us_zcta520\" / \"tl_2020_us_zcta520.shp\")\n",
    "\n",
    "# Filter ZCTAs for California ZIP codes (90000 to 96100)\n",
    "zctas_ca = zctas[zctas['GEOID20'].str[:3].astype(int).between(900, 961)]\n",
    "\n",
    "# Transform to best CRS for plotting CA\n",
    "teale_albers_crs = \"EPSG:3310\"\n",
    "zctas_ca = zctas_ca.to_crs(teale_albers_crs)\n",
    "\n",
    "# Read in raw wildfire dataset\n",
    "fires = gpd.read_file(data_dir / \"01_raw_data\" / \"wfbz_disasters_2000-2025.geojson\")\n",
    "\n",
    "# Filter to wildfires in California that occurred between 2016 and 2018 (inclusive)\n",
    "fires_ca = fires[(fires['wildfire_states'].str.contains('CA'))]\n",
    "fires_ca_filtered = fires_ca[fires_ca['wildfire_year'].between(2016, 2018)]\n",
    "\n",
    "# Transform to best CRS for plotting California\n",
    "fires_ca = fires_ca.to_crs(teale_albers_crs)"
   ]
  },
  {
   "cell_type": "markdown",
   "metadata": {},
   "source": [
    "Let's plot the wildfire disaster data over the California ZCTAs so we can get an idea of what the dataset looks like. "
   ]
  },
  {
   "cell_type": "code",
   "execution_count": null,
   "metadata": {},
   "outputs": [],
   "source": [
    "# Plot the fires overlayed onto ZCTA boundaries\n",
    "# Set text size to readable\n",
    "plt.rcParams.update({'font.size': 16})\n",
    "\n",
    "# Plot the ZCTA boundaries first\n",
    "fig, ax = plt.subplots(figsize=(10, 10))\n",
    "zctas_ca.boundary.plot(ax=ax, linewidth=0.5, edgecolor='grey', alpha=0.5, zorder=1)\n",
    "\n",
    "# Overlay the fire geometries with red fill\n",
    "fires_ca.plot(ax=ax, color='red', alpha=0.5, edgecolor='red', zorder=2)\n",
    "\n",
    "# Set plot title and labels\n",
    "ax.set_title('2016-2018 Wildfire disaster boundaries in CA\\n on CA ZCTAs')\n",
    "ax.set_axis_off()\n",
    "\n",
    "# Add a basemap using contextily - this slows things down a lot if it's high\n",
    "# resolution so we'll let it be blurry for now\n",
    "ctx.add_basemap(ax, crs=zctas_ca.crs.to_string(), source=ctx.providers.CartoDB.Positron)\n",
    "\n",
    "\n",
    "# Saving for use in the paper describing the Pop_Exp package\n",
    "output_path = data_dir / \"03_results\" / \"wildfire_zcta_plot_2018.pdf\"\n",
    "plt.savefig(output_path, format='pdf', bbox_inches='tight')"
   ]
  },
  {
   "cell_type": "markdown",
   "metadata": {},
   "source": [
    "### 1. Output from \"Total number of people residing within 10km of one or more California wildfire disasters in 2016, 2017, and 2018\".\n",
    "\n",
    "We'll start by exploring the results of the the first calculation: in the first run of `est_exposed_pop`, we calculated total people residing within 10 km of one or more wildfire disasters in the US the years 2016, 2017, and 2018. Let's read in those results.\n",
    "\n",
    "If a user ran `est_exposed_pop` this way, they might be interested in the total number of people affected by wildfire disasters in each year, which is exactly what the function returns already without us having to do any additional work. "
   ]
  },
  {
   "cell_type": "code",
   "execution_count": null,
   "metadata": {},
   "outputs": [],
   "source": [
    "# Read output of find_num_people_affected \n",
    "tot_af_any_wf = pd.read_parquet(data_dir / \"03_results\" / \"num_people_affected_by_wildfire.parquet\")\n",
    "tot_af_any_wf.head()"
   ]
  },
  {
   "cell_type": "markdown",
   "metadata": {},
   "source": [
    "Note the column names, types, etc., and how there are no longer hazard IDs, since we counted everyone within the unary union of all hazards in the data."
   ]
  },
  {
   "cell_type": "markdown",
   "metadata": {},
   "source": [
    "#### 2. Output from \"total number of people residing within 10 km of each unique California wildfire disaster in 2016, 2017, and 2018\".\n",
    "\n",
    "In this run, we calculated the total number of people residing within 10km of each unique disaster in each year, by running `est_exposed_pop` with the parameter `hazard_specific = True`. Someone might have run `est_exposed_pop` this way if they wanted to identify the most 5 most impactful wildfire disasters in each year, where the boundaries were closest to the largest residential population. To explore the results of this run, we'll find those worst 5 disasters and plot them. "
   ]
  },
  {
   "cell_type": "code",
   "execution_count": null,
   "metadata": {},
   "outputs": [],
   "source": [
    "# Read in output from find_num_people_affected\n",
    "tot_unique_wf = pd.read_parquet(data_dir / \"03_results\" / \"num_aff_by_unique_wildfire.parquet\")\n",
    "tot_unique_wf.head()"
   ]
  },
  {
   "cell_type": "markdown",
   "metadata": {},
   "source": [
    "Note the column names, types again. "
   ]
  },
  {
   "cell_type": "code",
   "execution_count": null,
   "metadata": {},
   "outputs": [],
   "source": [
    "# Want to group this data by year and find the 5 largest wildfires in each year\n",
    "# Sort the DataFrame by 'year' and 'num_people_affected' \n",
    "sorted_wfs = tot_unique_wf.sort_values(by=['year', 'exposed_10'], ascending=[True, False])\n",
    "\n",
    "# Group by 'year' and get the top 5\n",
    "high_impact_wfs = sorted_wfs.groupby('year').head(5).reset_index(drop=True)\n",
    "high_impact_wfs"
   ]
  },
  {
   "cell_type": "markdown",
   "metadata": {},
   "source": [
    "Now we want to plot these. Because `est_exposed_pop` doesn't preserve the geometry column, we need to rejoin that information to the results. "
   ]
  },
  {
   "cell_type": "code",
   "execution_count": null,
   "metadata": {},
   "outputs": [],
   "source": [
    "# Prepare to join by correcting col names\n",
    "fires_ca[\"ID_hazard\"] = fires_ca[\"ics_id\"].fillna(\"\").astype(str) + \"_\" + fires_ca[\"wildfire_id\"].astype(str).fillna(\"unknown\")\n",
    "fires_ca = fires_ca[['ID_hazard', 'geometry']]\n",
    "# And join to get the geographic locations\n",
    "high_impact_wfs = high_impact_wfs.merge(fires_ca, on='ID_hazard', how='left')\n"
   ]
  },
  {
   "cell_type": "markdown",
   "metadata": {},
   "source": [
    "Let's plot these most impactful disasters on top of the Califonia ZCTAs, so we can see where they are. Let's add some circles proportional to the number of people that were residing within 10 km of each wildfire disaster. \n",
    "\n",
    "We're going to need to work for this plot a little bit. "
   ]
  },
  {
   "cell_type": "code",
   "execution_count": null,
   "metadata": {},
   "outputs": [],
   "source": [
    "# Want to make a dataframe with the coordinates of each disaster to plot on top of ZCTAs\n",
    "# Get the coordinates in the right CRS\n",
    "high_impact_wfs = high_impact_wfs.set_geometry('geometry')\n",
    "high_impact_wfs = high_impact_wfs.to_crs(teale_albers_crs) # reproj to teale\n",
    "high_impact_wfs['latitude'] = high_impact_wfs['geometry'].centroid.y\n",
    "high_impact_wfs['longitude'] = high_impact_wfs['geometry'].centroid.x\n",
    "\n",
    "# Create df of those coordinates\n",
    "coords = gpd.GeoDataFrame(high_impact_wfs, geometry=gpd.points_from_xy(high_impact_wfs.longitude, high_impact_wfs.latitude))\n",
    "coords['radius'] = high_impact_wfs['exposed_10'] / 50\n",
    "coords['year'] = coords['year'].astype('category')"
   ]
  },
  {
   "cell_type": "code",
   "execution_count": null,
   "metadata": {},
   "outputs": [],
   "source": [
    "# Make a df of LA ZCTAs to use for the inset map\n",
    "la_zctas = zctas_ca[zctas_ca['GEOID20'].astype(int).between(90001, 91699)]\n",
    "\n",
    "# Make plot\n",
    "# Set text size\n",
    "plt.rcParams.update({'font.size': 16})\n",
    "\n",
    "# Set up to plot by specifying the colors we want to use for each year \n",
    "color_dict = {2016: 'green', 2017: 'red', 2018: 'blue'}\n",
    "\n",
    "# And plot. \n",
    "# Plot the ZCTA boundaries first\n",
    "fig, ax = plt.subplots(figsize=(10, 10))\n",
    "zctas_ca.boundary.plot(ax=ax, linewidth=0.5, edgecolor='grey', zorder=1)\n",
    "\n",
    "# Plot the wildfire coordinates and a circle proportional to the number of \n",
    "# people affected, colored by year\n",
    "coords.plot(ax=ax, color=coords['year'].map(color_dict), markersize=5, zorder=2)\n",
    "plt.scatter(coords.geometry.x, coords.geometry.y, s=coords['radius']*0.1, \n",
    "            color=coords['year'].map(color_dict), alpha=0.2, zorder=2)\n",
    "\n",
    "# Set plot title and labels\n",
    "ax.set_title('Five fires with largest population residing within 10km\\n' \n",
    "             'of fire boundary, by year 2016-2018')\n",
    "ax.text(0.5, 0.99, 'Circle size proportional to number of people affected', \n",
    "     horizontalalignment='center', verticalalignment='center', \n",
    "     transform=ax.transAxes)\n",
    "ax.set_axis_off()\n",
    "\n",
    "# Add a legend\n",
    "legend_elements = [Line2D([0], [0], \n",
    "    marker='o', color='w', label=str(year), markerfacecolor=color, \n",
    "    markersize=10) for year, color in color_dict.items()]\n",
    "ax.legend(handles=legend_elements, title='Year', loc='upper left', \n",
    "    bbox_to_anchor=(1, 1))\n",
    "\n",
    "# Create an inset map for LA area with adjusted position\n",
    "ax_inset = inset_axes(ax, width=\"30%\", height=\"30%\", loc='lower left', \n",
    "    bbox_to_anchor=(-0.10, 0.05, 1, 1), bbox_transform=ax.transAxes, \n",
    "    borderpad=2)\n",
    "zctas_ca.boundary.plot(ax=ax_inset, linewidth=0.5, edgecolor='black')\n",
    "\n",
    "coords.plot(ax=ax_inset, color=coords['year'].map(color_dict), markersize=5, \n",
    "    zorder=2)\n",
    "plt.scatter(coords.geometry.x, coords.geometry.y, s=coords['radius']*0.1, \n",
    "    color=coords['year'].map(color_dict), alpha=0.2, zorder=2)\n",
    "\n",
    "# Set the extent of the inset map to the bounds of the LA ZCTAs\n",
    "xmin, ymin, xmax, ymax = la_zctas.total_bounds\n",
    "ax_inset.set_xlim(xmin, xmax)\n",
    "ax_inset.set_ylim(ymin, ymax)\n",
    "\n",
    "ax_inset.set_title('LA Area')\n",
    "ax_inset.set_axis_off()\n",
    "\n",
    "# Add a basemap\n",
    "ctx.add_basemap(ax, crs=zctas_ca.crs.to_string(), \n",
    "                source=ctx.providers.CartoDB.Positron)\n",
    "ctx.add_basemap(ax_inset, crs=zctas_ca.crs.to_string(), \n",
    "                source=ctx.providers.CartoDB.Positron)\n",
    "\n",
    "# Add a box around the inset map\n",
    "rect = plt.Rectangle((0, 0), 1, 1, transform=ax_inset.transAxes, \n",
    "                     color='none', ec='black', lw=2)\n",
    "ax_inset.add_patch(rect)"
   ]
  },
  {
   "cell_type": "markdown",
   "metadata": {},
   "source": [
    "Ok - that's what we wanted from the second run."
   ]
  },
  {
   "cell_type": "markdown",
   "metadata": {},
   "source": [
    "### 3. Output from \"total number of people residing within 10km of one or more California wildfire disasters in 2016, 2017, and 2018 by 2020 ZCTA\", as well as output from \"population of all 2020 ZCTAs\". \n",
    "\n",
    "Now, let's visualize the results of the third demonstration. In this case, we found the number of people who lived within 10 km of one or more wildfire disasters by year and by ZCTA, and the number of people who lived within 10 km of each wildfire disaster by ZCTA. \n",
    "\n",
    "A researcher might use these results if they were assessing wildfire disaster exposure by ZCTA. They might want to know what proportion of people in each ZCTA lived within 10 km of any disaster boundary and were therefore exposed to fire, and then consider a ZCTA exposed if enough of its population was exposed. If we were doing that exposure assessment, we'd probably want to plot the proportion of people exposed to disasters by ZCTA. \n",
    "\n",
    "Let's use our results to do that. To accomplish that, we also need to use the denominator data that we produced at the end of the last section, where we found the ZCTA-level population. \n",
    "\n",
    "We'll read in that denominator data, and plotting the number of people who live in each ZCTA."
   ]
  },
  {
   "cell_type": "code",
   "execution_count": null,
   "metadata": {},
   "outputs": [],
   "source": [
    "# Read results showing the number of people residing in each ZCTA\n",
    "num_residing_by_zcta = pd.read_parquet(data_dir / \"03_results\" / \"num_people_residing_by_zcta.parquet\")\n",
    "\n",
    "# CA only based on ZCTAs\n",
    "num_residing_ca = num_residing_by_zcta[pd.to_numeric(num_residing_by_zcta['ID_admin_unit']).between(90000, 96100)].copy()\n",
    "\n",
    "# select cols ID spatial unit and num_people_affected\n",
    "num_residing_ca = num_residing_ca[[\"ID_admin_unit\",  \"population\"]]\n",
    "num_residing_ca.head()"
   ]
  },
  {
   "cell_type": "code",
   "execution_count": null,
   "metadata": {},
   "outputs": [],
   "source": [
    "# Clean zctas for plotting\n",
    "zctas_ca.rename(columns={\"ZCTA5CE20\": \"ID_admin_unit\"}, inplace=True)\n",
    "zctas_ca = zctas_ca[[\"ID_admin_unit\", \"geometry\"]]\n",
    "\n",
    "# Merge population data to zctas_ca geometry for plotting\n",
    "zctas_ca = zctas_ca.merge(num_residing_ca, on=\"ID_admin_unit\", how=\"left\")"
   ]
  },
  {
   "cell_type": "code",
   "execution_count": null,
   "metadata": {},
   "outputs": [],
   "source": [
    "# Update font size\n",
    "plt.rcParams.update({'font.size': 20})\n",
    "\n",
    "# Define an sf zcta dataframe to help make a map inset\n",
    "sf_zctas = zctas_ca[zctas_ca['ID_admin_unit'].astype(int).between(94000, 95399)]\n",
    "\n",
    "# Create main plot without legend\n",
    "fig, ax = plt.subplots(figsize=(10, 10))\n",
    "zctas_ca.plot(column='population', ax=ax, cmap='viridis', \n",
    "              linewidth=0.1, edgecolor='black', legend=True, \n",
    "              legend_kwds={'label': \"Residents\"})\n",
    "\n",
    "# Set plot title and labels\n",
    "ax.set_title('Population by 2020 ZCTA according to GHSL 2020 100m\\n' \n",
    "             'resolution gridded population dataset', pad=20)\n",
    "ax.set_axis_off()\n",
    "\n",
    "# Create an inset map for LA area\n",
    "ax_inset_la = inset_axes(ax, width=\"30%\", height=\"30%\", loc='lower left', \n",
    "                         bbox_to_anchor=(-0.4, 0.05, 1, 1), \n",
    "                         bbox_transform=ax.transAxes, borderpad=2)\n",
    "zctas_ca.plot(column='population', ax=ax_inset_la, cmap='viridis', \n",
    "              linewidth=0.1, edgecolor='black')\n",
    "\n",
    "# Set the extent of the inset map to the bounds of the LA ZCTAs\n",
    "xmin, ymin, xmax, ymax = la_zctas.total_bounds\n",
    "ax_inset_la.set_xlim(xmin, xmax)\n",
    "ax_inset_la.set_ylim(ymin, ymax)\n",
    "ax_inset_la.set_title('LA Area')\n",
    "ax_inset_la.set_axis_off()\n",
    "\n",
    "# Create an inset map for SF area with adjusted position\n",
    "ax_inset_sf = inset_axes(ax, width=\"30%\", height=\"30%\", loc='lower left', \n",
    "                         bbox_to_anchor=(-0.4, 0.45, 1, 1), \n",
    "                         bbox_transform=ax.transAxes, borderpad=2)\n",
    "zctas_ca.plot(column='population', ax=ax_inset_sf, cmap='viridis', \n",
    "              linewidth=0.1, edgecolor='black')\n",
    "\n",
    "# Set the extent of the inset map to the bounds of the SF ZCTAs\n",
    "xmin, ymin, xmax, ymax = sf_zctas.total_bounds\n",
    "ax_inset_sf.set_xlim(xmin, xmax)\n",
    "ax_inset_sf.set_ylim(ymin, ymax)\n",
    "ax_inset_sf.set_title('Bay Area')\n",
    "ax_inset_sf.set_axis_off()\n",
    "\n",
    "ctx.add_basemap(ax, crs=zctas_ca.crs.to_string(), \n",
    "                source=ctx.providers.CartoDB.Positron)\n",
    "\n",
    "# Save fig for use in pop_exp package paper\n",
    "output_path = data_dir / \"03_results\" / \"pop_by_zcta_plot.png\"\n",
    "plt.savefig(output_path, format='png', bbox_inches='tight', dpi=300)  "
   ]
  },
  {
   "cell_type": "markdown",
   "metadata": {},
   "source": [
    "Those are our denominators. Now let's get the number of people affected by one or more wildfires by ZCTA. "
   ]
  },
  {
   "cell_type": "code",
   "execution_count": null,
   "metadata": {},
   "outputs": [],
   "source": [
    "# Read output of find_num_people_affected_by_geo\n",
    "wf_by_zcta = pd.read_parquet(data_dir / \"03_results\" / \n",
    "                             \"num_people_affected_by_wildfire_by_zcta.parquet\")\n",
    "wf_by_zcta.head()"
   ]
  },
  {
   "cell_type": "code",
   "execution_count": null,
   "metadata": {},
   "outputs": [],
   "source": [
    "zctas_ca.head()"
   ]
  },
  {
   "cell_type": "code",
   "execution_count": null,
   "metadata": {},
   "outputs": [],
   "source": [
    "# someone actually doing this might want to plot all years, but let's just \n",
    "# select 2018 and plot that\n",
    "wf_by_zcta_2018 = wf_by_zcta[wf_by_zcta['year'] == 2018].copy()\n",
    "# drop the year col\n",
    "wf_by_zcta_2018.drop(columns='year', inplace=True)\n",
    "wf_by_zcta_2018.head()"
   ]
  },
  {
   "cell_type": "code",
   "execution_count": null,
   "metadata": {},
   "outputs": [],
   "source": [
    "# sum num aff in CA\n",
    "tot_num_aff_ca = wf_by_zcta_2018['exposed_10'].sum()\n",
    "tot_num_aff_ca"
   ]
  },
  {
   "cell_type": "code",
   "execution_count": null,
   "metadata": {},
   "outputs": [],
   "source": [
    "# merge to zctas_ca geometry for plotting\n",
    "zctas_ca_wf = zctas_ca.merge(wf_by_zcta_2018, on=\"ID_admin_unit\", how=\"left\")\n",
    "zctas_ca_wf.head()"
   ]
  },
  {
   "cell_type": "code",
   "execution_count": null,
   "metadata": {},
   "outputs": [],
   "source": [
    "# fill in NAs in num people affected with 0\n",
    "zctas_ca_wf['exposed_10'] = zctas_ca_wf['exposed_10'].fillna(0)\n",
    "zctas_ca_wf.head()\n"
   ]
  },
  {
   "cell_type": "code",
   "execution_count": null,
   "metadata": {},
   "outputs": [],
   "source": [
    "# find the proportion of people affected by ZCTA\n",
    "zctas_ca_wf['prop_aff'] = zctas_ca_wf['exposed_10'] / zctas_ca_wf['population']"
   ]
  },
  {
   "cell_type": "code",
   "execution_count": null,
   "metadata": {},
   "outputs": [],
   "source": [
    "# Plot. \n",
    "fig, ax = plt.subplots(figsize=(10, 10))\n",
    "zctas_ca_wf.plot(column='prop_aff', ax=ax, legend=True, cmap='viridis', \n",
    "                 linewidth=0.1, edgecolor='black')\n",
    "\n",
    "# Set plot title and labels\n",
    "ax.set_title('Proportion of ZCTA population residing within 10km of a 2018\\n'\n",
    "             'wildfire boundary by 2020 ZCTA')\n",
    "ax.set_axis_off()\n",
    "\n",
    "# Create an inset map for LA area with adjusted position\n",
    "ax_inset_la = inset_axes(ax, width=\"30%\", height=\"30%\", loc='lower left', \n",
    "    bbox_to_anchor=(-0.4, 0.05, 1, 1), bbox_transform=ax.transAxes, borderpad=2)\n",
    "zctas_ca_wf.plot(column='prop_aff', ax=ax_inset_la, cmap='viridis', \n",
    "                 linewidth=0.1, edgecolor='black', legend=False)\n",
    "\n",
    "# Set the extent of the inset map to the bounds of the LA ZCTAs\n",
    "xmin, ymin, xmax, ymax = la_zctas.total_bounds\n",
    "ax_inset_la.set_xlim(xmin, xmax)\n",
    "ax_inset_la.set_ylim(ymin, ymax)\n",
    "\n",
    "ax_inset_la.set_title('LA Area')\n",
    "ax_inset_la.set_axis_off()\n",
    "\n",
    "# Create an inset map for SF area with adjusted position\n",
    "ax_inset_sf = inset_axes(ax, width=\"30%\", height=\"30%\", loc='lower left', \n",
    "    bbox_to_anchor=(-0.4, 0.45, 1, 1), bbox_transform=ax.transAxes, borderpad=2)\n",
    "zctas_ca_wf.plot(column='prop_aff', ax=ax_inset_sf, cmap='viridis', \n",
    "                 linewidth=0.1, edgecolor='black', legend=False)\n",
    "\n",
    "# Set the extent of the inset map to the bounds of the SF ZCTAs\n",
    "xmin, ymin, xmax, ymax = sf_zctas.total_bounds\n",
    "ax_inset_sf.set_xlim(xmin, xmax)\n",
    "ax_inset_sf.set_ylim(ymin, ymax)\n",
    "\n",
    "ax_inset_sf.set_title('Bay Area')\n",
    "ax_inset_sf.set_axis_off()\n",
    "\n",
    "ctx.add_basemap(ax, crs=zctas_ca.crs.to_string(), source=ctx.providers.CartoDB.Positron)\n",
    "ctx.add_basemap(ax_inset_la, crs=zctas_ca.crs.to_string(), \n",
    "                source=ctx.providers.CartoDB.Positron)\n",
    "ctx.add_basemap(ax_inset_sf, crs=zctas_ca.crs.to_string(), \n",
    "                source=ctx.providers.CartoDB.Positron)\n",
    "\n",
    "\n",
    "# Save output path\n",
    "output_path = data_dir / \"03_results\" / \"prop_pop_by_wf_by_zcta_plot.png\"\n",
    "plt.savefig(output_path, format='png', bbox_inches='tight', dpi=300)  "
   ]
  },
  {
   "cell_type": "markdown",
   "metadata": {},
   "source": [
    "Ok, there it is.\n",
    "\n",
    "One final thing about this output - this output shows us the proprtion of the ZCTA population residing within 10km of a wildfire disaster boundary by ZCTA. \n",
    "\n",
    "If instead of the total population, we wanted to find the total number of people making >100,000$ in household income living within 10km of a wildfire disaster boundary by ZCTA, or the total number children under the age of 5 residing within 10km of a wildfire disaster boundary by ZCTA, we could use census data together with this function output to do this. If we assume that the population of interest (ex. children under 5) is uniformly distributed throughout the residential population, we can take the function output describing the proportion of the population residing within 10km of the fire boundaries and multiply this by the under 5 population to estimate the number of children exposed. This is improves upon the strategy of using census data and hazard boundaries to find the exposed populuation, which assumes that the population is uniformly distributed across space. We could do this for any census-described population. "
   ]
  },
  {
   "cell_type": "markdown",
   "metadata": {},
   "source": [
    "### 4. Output from \"total number of people residing within 10 km of each unique California wildfire disaster in 2016, 2017, and 2018 by 2020 ZCTA\".\n",
    "\n",
    "Finally, let's look at the results from our fourth run. There are many reasons why someone might want to calculate this type of exposure - maybe they want to look at multiple exposures. A researcher might be interested in this option if they wanted to know about multiple exposures in the same ZCTA or a group of ZCTAs, maybe for an interrupted time series analysis or something similar. If that was the goal, they might want to look at exposure over time in a specific ZCTA. They also might want to know which ZCTAs were affected by a certain disaster.\n",
    " \n",
    "First, let's filter the results to look at ZCTA 90263, Malibu."
   ]
  },
  {
   "cell_type": "code",
   "execution_count": null,
   "metadata": {},
   "outputs": [],
   "source": [
    "# need to read in results \n",
    "unique_wf_by_zcta = pd.read_parquet(data_dir / \"03_results\" / \"num_people_affected_by_wildfire_zcta_unique.parquet\")\n",
    "unique_wf_by_zcta.head()"
   ]
  },
  {
   "cell_type": "code",
   "execution_count": null,
   "metadata": {},
   "outputs": [],
   "source": [
    "# filter to zcta 90263\n",
    "unique_wf_by_zcta_90263 = unique_wf_by_zcta[unique_wf_by_zcta['ID_admin_unit'] == '90263']\n",
    "print(unique_wf_by_zcta_90263)"
   ]
  },
  {
   "cell_type": "markdown",
   "metadata": {},
   "source": [
    "We can see that the Woolsey fire boundary was within 10km of 1578 people living in this ZCTA. The fire burned some structures and homes in Malibu, but did not burn through the whole downtown, so some of these people might have been living in the fire boundary - we'd need to map the raster and fire boundary data to tell. \n",
    "\n",
    "Let's also look at all the ZCTAs near the Woolsey Fire boundary."
   ]
  },
  {
   "cell_type": "code",
   "execution_count": null,
   "metadata": {},
   "outputs": [],
   "source": [
    "\n",
    "unique_wf_by_zcta_woolsey = unique_wf_by_zcta[unique_wf_by_zcta['ID_hazard'].str.contains('WOOLSEY')]\n",
    "print(unique_wf_by_zcta_woolsey)"
   ]
  },
  {
   "cell_type": "markdown",
   "metadata": {},
   "source": [
    "How many people lived within 10 km of the Woolsey Fire boundary?"
   ]
  },
  {
   "cell_type": "code",
   "execution_count": null,
   "metadata": {},
   "outputs": [],
   "source": [
    "# sum values in num_people_affected in unique_wf_by_zcta_cf\n",
    "sum_num_people_affected = unique_wf_by_zcta_woolsey['exposed_10'].sum()\n",
    "print(sum_num_people_affected)"
   ]
  },
  {
   "cell_type": "markdown",
   "metadata": {},
   "source": [
    "Let's also look at the Camp Fire."
   ]
  },
  {
   "cell_type": "code",
   "execution_count": null,
   "metadata": {},
   "outputs": [],
   "source": [
    "unique_wf_by_zcta_cf = unique_wf_by_zcta[unique_wf_by_zcta['ID_hazard'].str.contains('2018_016737_CAMP')]\n",
    "print(unique_wf_by_zcta_cf)"
   ]
  },
  {
   "cell_type": "markdown",
   "metadata": {},
   "source": [
    "How many people were near the Camp Fire?"
   ]
  },
  {
   "cell_type": "code",
   "execution_count": null,
   "metadata": {},
   "outputs": [],
   "source": [
    "# sum values in num_people_affected in unique_wf_by_zcta_cf\n",
    "sum_num_people_affected = unique_wf_by_zcta_cf['exposed_10'].sum()\n",
    "print(sum_num_people_affected)"
   ]
  },
  {
   "cell_type": "markdown",
   "metadata": {},
   "source": [
    "Looks like there were 160,000 poeple living within 10km of the fire boundary - in this case we know this fire burned completely through Paradise so a lot of these people were actually living inside the fire boundary."
   ]
  },
  {
   "cell_type": "markdown",
   "metadata": {},
   "source": [
    "This concludes our tutorial. We hope you find these functions useful for population-level environmental exposure assignment. "
   ]
  }
 ],
 "metadata": {
  "kernelspec": {
   "display_name": "pop_exp",
   "language": "python",
   "name": "python3"
  },
  "language_info": {
   "codemirror_mode": {
    "name": "ipython",
    "version": 3
   },
   "file_extension": ".py",
   "mimetype": "text/x-python",
   "name": "python",
   "nbconvert_exporter": "python",
   "pygments_lexer": "ipython3",
   "version": "3.13.5"
  }
 },
 "nbformat": 4,
 "nbformat_minor": 2
}
